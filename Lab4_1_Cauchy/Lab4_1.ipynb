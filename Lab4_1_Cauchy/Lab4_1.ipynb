{
  "nbformat": 4,
  "nbformat_minor": 0,
  "metadata": {
    "colab": {
      "name": "Lab4_1.ipynb",
      "provenance": [],
      "collapsed_sections": []
    },
    "kernelspec": {
      "name": "python3",
      "display_name": "Python 3"
    },
    "language_info": {
      "name": "python"
    }
  },
  "cells": [
    {
      "cell_type": "code",
      "execution_count": 114,
      "metadata": {
        "id": "Tp_UdmPViPtW"
      },
      "outputs": [],
      "source": [
        "import numpy as np\n",
        "import plotly.offline as offline\n",
        "from plotly.graph_objs import *"
      ]
    },
    {
      "cell_type": "markdown",
      "source": [
        "![2022-08-25_195526.png](data:image/png;base64,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)"
      ],
      "metadata": {
        "id": "jSY-x_H17Z30"
      }
    },
    {
      "cell_type": "code",
      "source": [
        "def fxyz(x, y, z):\n",
        "  return (2 * x * z - 2 * y) / (x**2 - 1)"
      ],
      "metadata": {
        "id": "CGs_LPjJZwFZ"
      },
      "execution_count": 115,
      "outputs": []
    },
    {
      "cell_type": "code",
      "source": [
        "def y_point(x):\n",
        "  return x**2 + x + 1"
      ],
      "metadata": {
        "id": "cgCMrcbBfnf9"
      },
      "execution_count": 116,
      "outputs": []
    },
    {
      "cell_type": "markdown",
      "source": [
        "Точки для функции "
      ],
      "metadata": {
        "id": "gjs1h0m6iUTf"
      }
    },
    {
      "cell_type": "code",
      "source": [
        "def x_list(a, b, h):\n",
        "    return list(np.arange(a, b + h, h))"
      ],
      "metadata": {
        "id": "5EEN4jkEf6l3"
      },
      "execution_count": 131,
      "outputs": []
    },
    {
      "cell_type": "markdown",
      "source": [
        "-------------"
      ],
      "metadata": {
        "id": "xdzHdaxs38rq"
      }
    },
    {
      "cell_type": "markdown",
      "source": [
        "**Погрешность методом Рунге – Ромберга**"
      ],
      "metadata": {
        "id": "o_mSvEzlDLzn"
      }
    },
    {
      "cell_type": "code",
      "source": [
        "def runge_romberg(sol1, sol2, p):\n",
        "    res = sum((sol1[i * 2] - sol2[i]) ** 2 for i in range(len(sol2)))\n",
        "    return (res ** 0.5) / (2 ** p - 1)"
      ],
      "metadata": {
        "id": "_myxTSysDLNC"
      },
      "execution_count": 136,
      "outputs": []
    },
    {
      "cell_type": "markdown",
      "source": [
        "---------------"
      ],
      "metadata": {
        "id": "-tiiOiDw32Ci"
      }
    },
    {
      "cell_type": "code",
      "source": [
        "# начальные условия : \n",
        "a = 2\n",
        "b = 3\n",
        "h = 0.1\n",
        "\n",
        "y0 = 7\n",
        "z0 = 5\n",
        "\n",
        "# блок значений для х с шагом h\n",
        "x = x_list(a, b, h)\n",
        "x_ = x_list(a, b, h / 2)\n",
        "solution = [y_point(i) for i in x]\n",
        "\n",
        "solution"
      ],
      "metadata": {
        "colab": {
          "base_uri": "https://localhost:8080/"
        },
        "id": "JgZEWjJRn8HB",
        "outputId": "11450073-6128-4c31-b9df-3b3757146b4c"
      },
      "execution_count": 137,
      "outputs": [
        {
          "output_type": "execute_result",
          "data": {
            "text/plain": [
              "[7.0,\n",
              " 7.51,\n",
              " 8.040000000000001,\n",
              " 8.590000000000002,\n",
              " 9.160000000000002,\n",
              " 9.750000000000004,\n",
              " 10.360000000000003,\n",
              " 10.990000000000004,\n",
              " 11.640000000000004,\n",
              " 12.310000000000006,\n",
              " 13.000000000000007]"
            ]
          },
          "metadata": {},
          "execution_count": 137
        }
      ]
    },
    {
      "cell_type": "markdown",
      "source": [
        "**Метод Эйлера**"
      ],
      "metadata": {
        "id": "cDidf_Czodt3"
      }
    },
    {
      "cell_type": "code",
      "source": [
        "def method_euler(x, y0, z0, h):\n",
        "    y = [y0]\n",
        "    z = [z0]\n",
        "    for k in range(len(x) - 1): # y_k+1 = y_k + h * f(x_k, y_k)\n",
        "        y.append(y[k] + h * z[k])\n",
        "        z.append(z[k] + h * fxyz(x[k], y[k], z[k]))\n",
        "    return y, z"
      ],
      "metadata": {
        "id": "mlEfUfsHiWI-"
      },
      "execution_count": 120,
      "outputs": []
    },
    {
      "cell_type": "code",
      "source": [
        "result_euler, diff_result_euler = method_euler(x, y0, z0, h)\n",
        "result_euler"
      ],
      "metadata": {
        "id": "6-V6b0XCqgOF",
        "colab": {
          "base_uri": "https://localhost:8080/"
        },
        "outputId": "aa47a79f-375a-4fe8-c68b-33d1a12b23ed"
      },
      "execution_count": 121,
      "outputs": [
        {
          "output_type": "execute_result",
          "data": {
            "text/plain": [
              "[7,\n",
              " 7.5,\n",
              " 8.02,\n",
              " 8.560058651026392,\n",
              " 9.12022818914956,\n",
              " 9.700555492894201,\n",
              " 10.301082910507423,\n",
              " 10.921848918396593,\n",
              " 11.562888653003162,\n",
              " 12.224234346007126,\n",
              " 12.905915684482165]"
            ]
          },
          "metadata": {},
          "execution_count": 121
        }
      ]
    },
    {
      "cell_type": "markdown",
      "source": [
        "Погрешность методом Рунге – Ромберга для метода Эйлера"
      ],
      "metadata": {
        "id": "SKBFTpSlFHxU"
      }
    },
    {
      "cell_type": "code",
      "source": [
        "p = 1\n",
        "result_euler_, diff_result_euler_ = method_euler(x_, y0, z0, h/2)\n",
        "\n",
        "runge_romberg(result_euler_, result_euler, p)"
      ],
      "metadata": {
        "colab": {
          "base_uri": "https://localhost:8080/"
        },
        "id": "FeMeomEaDA-a",
        "outputId": "b553ea90-3176-49c0-f133-04aac34b26e4"
      },
      "execution_count": 122,
      "outputs": [
        {
          "output_type": "execute_result",
          "data": {
            "text/plain": [
              "0.09539519210916597"
            ]
          },
          "metadata": {},
          "execution_count": 122
        }
      ]
    },
    {
      "cell_type": "markdown",
      "source": [
        "---------"
      ],
      "metadata": {
        "id": "IX1jEDNr3z1p"
      }
    },
    {
      "cell_type": "markdown",
      "source": [
        "**Метод Рунге-Кутты 4-го порядка**\n"
      ],
      "metadata": {
        "id": "I2DKpcsX2vdL"
      }
    },
    {
      "cell_type": "code",
      "source": [
        "def runge_kutta(x, y0, z0, h):\n",
        "    y = [y0]\n",
        "    z = [z0]\n",
        "    for k in range(len(x) - 1):\n",
        "        K1 = h * z[k]\n",
        "        L1 = h * fxyz(x[k], y[k], z[k])\n",
        "        K2 = h * (z[k] + L1/2)\n",
        "        L2 = h * fxyz(x[k] + h/2, y[k] + K1/2, z[k] + L1/2)\n",
        "        K3 = h * (z[k] + L2/2)\n",
        "        L3 = h * fxyz(x[k] + h/2, y[k] + K2/2, z[k] + L2/2)\n",
        "        K4 = h * (z[k] + L3)\n",
        "        L4 = h * fxyz(x[k] + h, y[k] + K3, z[k] + L3)\n",
        "\n",
        "        delta = ((K1 + 2 * K2 + 2 * K3 + K4) / 6, (L1 + 2 * L2 + 2 * L3 + L4) / 6)\n",
        "        \n",
        "        y.append(y[k] + delta[0])\n",
        "        z.append(z[k] + delta[1])\n",
        "    return y, z"
      ],
      "metadata": {
        "id": "EC_c8FQkGkHb"
      },
      "execution_count": 123,
      "outputs": []
    },
    {
      "cell_type": "code",
      "source": [
        "result_runge, diff_result_runge = runge_kutta(x, y0, z0, h)\n",
        "result_runge"
      ],
      "metadata": {
        "colab": {
          "base_uri": "https://localhost:8080/"
        },
        "id": "T74MrF3JBI4F",
        "outputId": "73d984f3-21ef-4e49-97f7-f88dc11126b8"
      },
      "execution_count": 124,
      "outputs": [
        {
          "output_type": "execute_result",
          "data": {
            "text/plain": [
              "[7,\n",
              " 7.510000166569061,\n",
              " 8.0400003297121,\n",
              " 8.590000491967928,\n",
              " 9.16000065519995,\n",
              " 9.750000820804896,\n",
              " 10.360000989848992,\n",
              " 10.990001163159294,\n",
              " 11.640001341386474,\n",
              " 12.31000152504892,\n",
              " 13.000001714564299]"
            ]
          },
          "metadata": {},
          "execution_count": 124
        }
      ]
    },
    {
      "cell_type": "markdown",
      "source": [
        "Погрешность методом Рунге – Ромберга для Метода Рунге-Кутты 4-го порядка"
      ],
      "metadata": {
        "id": "dUXhYIZfFCFX"
      }
    },
    {
      "cell_type": "code",
      "source": [
        "p = 4\n",
        "\n",
        "result_runge_, diff_result_runge_ = runge_kutta(x_, y0, z0, h/2)\n",
        "runge_romberg(diff_result_runge_, diff_result_runge, p)"
      ],
      "metadata": {
        "colab": {
          "base_uri": "https://localhost:8080/"
        },
        "id": "gUR1a-IpBL3l",
        "outputId": "92713aae-f6a8-4d38-9e03-5c50ba85c10c"
      },
      "execution_count": 125,
      "outputs": [
        {
          "output_type": "execute_result",
          "data": {
            "text/plain": [
              "2.08954443441421e-07"
            ]
          },
          "metadata": {},
          "execution_count": 125
        }
      ]
    },
    {
      "cell_type": "markdown",
      "source": [
        "--------------"
      ],
      "metadata": {
        "id": "Ea99M0lyFa3v"
      }
    },
    {
      "cell_type": "markdown",
      "source": [
        "**Метод Адамса 4-го порядка**"
      ],
      "metadata": {
        "id": "ZCDLaqEUFVTZ"
      }
    },
    {
      "cell_type": "code",
      "source": [
        "def adams(x, y0, z0, h):\n",
        "    y, z =  runge_kutta(x[:4], y0, z0, h) # начальные условия через одношаговый метод Рунге-Кутты 4-го порядка\n",
        "\n",
        "    for k in range(3, len(x) - 1):\n",
        "        adams_y = y[k] + h * (55 * z[k] - 59 * z[k - 1] + 37 * z[k - 2] - 9 * z[k - 3]) / 24\n",
        "\n",
        "        adams_z = z[k] + h * (55 * fxyz(x[k], y[k], z[k]) - \n",
        "        59 * fxyz(x[k - 1], y[k - 1], z[k - 1]) +\n",
        "        37 * fxyz(x[k - 2], y[k - 2], z[k - 2]) -\n",
        "        9 * fxyz(x[k - 3], y[k - 3], z[k - 3])) / 24\n",
        "\n",
        "        y.append(adams_y)\n",
        "        z.append(adams_z)\n",
        "    return y, z"
      ],
      "metadata": {
        "id": "1rdZEMFlBn3N"
      },
      "execution_count": 126,
      "outputs": []
    },
    {
      "cell_type": "code",
      "source": [
        "result_adams, diff_result_adams = adams(x, y0, z0, h)\n",
        "result_adams"
      ],
      "metadata": {
        "colab": {
          "base_uri": "https://localhost:8080/"
        },
        "id": "TQNaK870G3jF",
        "outputId": "8e82fe0b-67ed-4812-936d-9fa065b28ed5"
      },
      "execution_count": 127,
      "outputs": [
        {
          "output_type": "execute_result",
          "data": {
            "text/plain": [
              "[7,\n",
              " 7.510000166569061,\n",
              " 8.0400003297121,\n",
              " 8.590000491967928,\n",
              " 9.160000565490698,\n",
              " 9.750000628987861,\n",
              " 10.360000709470556,\n",
              " 10.990000792478256,\n",
              " 11.640000878408921,\n",
              " 12.31000096955879,\n",
              " 13.000001065458894]"
            ]
          },
          "metadata": {},
          "execution_count": 127
        }
      ]
    },
    {
      "cell_type": "markdown",
      "source": [
        "Погрешность методом Рунге – Ромберга для Метода Адамса 4-го порядка"
      ],
      "metadata": {
        "id": "rJdunzwtptHi"
      }
    },
    {
      "cell_type": "code",
      "source": [
        "p = 4\n",
        "\n",
        "result_adams_, diff_result_adams_ = adams(x_, y0, z0, h/2)\n",
        "runge_romberg(result_adams_, result_adams, p)"
      ],
      "metadata": {
        "colab": {
          "base_uri": "https://localhost:8080/"
        },
        "id": "MpWw5z7sHC39",
        "outputId": "0c1f8276-316c-4ad2-ba24-6925f80e7756"
      },
      "execution_count": 128,
      "outputs": [
        {
          "output_type": "execute_result",
          "data": {
            "text/plain": [
              "1.4395289475171464e-07"
            ]
          },
          "metadata": {},
          "execution_count": 128
        }
      ]
    },
    {
      "cell_type": "markdown",
      "source": [
        "----"
      ],
      "metadata": {
        "id": "JjqZc7yq5GHd"
      }
    },
    {
      "cell_type": "markdown",
      "source": [
        "**Графики**"
      ],
      "metadata": {
        "id": "rmrObsp95IOj"
      }
    },
    {
      "cell_type": "code",
      "source": [
        "scatter_point = Scatter(x = x, y = solution, name = 'Point Solution', mode = 'markers + lines', showlegend = True)\n",
        "scatter_euler = Scatter(x = x, y = result_euler, name = 'Euler method', mode = 'markers + lines', showlegend = True)\n",
        "scatter_runge_kutta = Scatter(x = x, y = result_runge, name = 'Runge-Kutta metod', mode = 'markers + lines', showlegend = True)\n",
        "scatter_adams = Scatter(x = x, y = result_adams, name = 'Adams method', mode = 'markers + lines', showlegend = True)\n",
        "data = [scatter_point, scatter_euler, scatter_runge_kutta, scatter_adams]\n",
        "layout = Layout(xaxis = dict(title = 'x'), yaxis = dict(title = 'y'))\n",
        "fig = Figure(data = data, layout = layout)\n",
        "offline.iplot(fig)"
      ],
      "metadata": {
        "colab": {
          "base_uri": "https://localhost:8080/",
          "height": 542
        },
        "id": "2V4TIarVr58A",
        "outputId": "a48dc995-c3de-4379-f24f-29a4353e28f4"
      },
      "execution_count": 135,
      "outputs": [
        {
          "output_type": "display_data",
          "data": {
            "text/html": [
              "<html>\n",
              "<head><meta charset=\"utf-8\" /></head>\n",
              "<body>\n",
              "    <div>            <script src=\"https://cdnjs.cloudflare.com/ajax/libs/mathjax/2.7.5/MathJax.js?config=TeX-AMS-MML_SVG\"></script><script type=\"text/javascript\">if (window.MathJax) {MathJax.Hub.Config({SVG: {font: \"STIX-Web\"}});}</script>                <script type=\"text/javascript\">window.PlotlyConfig = {MathJaxConfig: 'local'};</script>\n",
              "        <script src=\"https://cdn.plot.ly/plotly-2.8.3.min.js\"></script>                <div id=\"610c8d13-8a3d-4bf2-bca9-0591f3827a82\" class=\"plotly-graph-div\" style=\"height:525px; width:100%;\"></div>            <script type=\"text/javascript\">                                    window.PLOTLYENV=window.PLOTLYENV || {};                                    if (document.getElementById(\"610c8d13-8a3d-4bf2-bca9-0591f3827a82\")) {                    Plotly.newPlot(                        \"610c8d13-8a3d-4bf2-bca9-0591f3827a82\",                        [{\"mode\":\"markers+lines\",\"name\":\"Point Solution\",\"showlegend\":true,\"x\":[2.0,2.1,2.2,2.3000000000000003,2.4000000000000004,2.5000000000000004,2.6000000000000005,2.7000000000000006,2.8000000000000007,2.900000000000001,3.000000000000001],\"y\":[7.0,7.51,8.040000000000001,8.590000000000002,9.160000000000002,9.750000000000004,10.360000000000003,10.990000000000004,11.640000000000004,12.310000000000006,13.000000000000007],\"type\":\"scatter\"},{\"mode\":\"markers+lines\",\"name\":\"Euler method\",\"showlegend\":true,\"x\":[2.0,2.1,2.2,2.3000000000000003,2.4000000000000004,2.5000000000000004,2.6000000000000005,2.7000000000000006,2.8000000000000007,2.900000000000001,3.000000000000001],\"y\":[7,7.5,8.02,8.560058651026392,9.12022818914956,9.700555492894201,10.301082910507423,10.921848918396593,11.562888653003162,12.224234346007126,12.905915684482165],\"type\":\"scatter\"},{\"mode\":\"markers+lines\",\"name\":\"Runge-Kutta metod\",\"showlegend\":true,\"x\":[2.0,2.1,2.2,2.3000000000000003,2.4000000000000004,2.5000000000000004,2.6000000000000005,2.7000000000000006,2.8000000000000007,2.900000000000001,3.000000000000001],\"y\":[7,7.510000166569061,8.0400003297121,8.590000491967928,9.16000065519995,9.750000820804896,10.360000989848992,10.990001163159294,11.640001341386474,12.31000152504892,13.000001714564299],\"type\":\"scatter\"},{\"mode\":\"markers+lines\",\"name\":\"Adams method\",\"showlegend\":true,\"x\":[2.0,2.1,2.2,2.3000000000000003,2.4000000000000004,2.5000000000000004,2.6000000000000005,2.7000000000000006,2.8000000000000007,2.900000000000001,3.000000000000001],\"y\":[7,7.510000166569061,8.0400003297121,8.590000491967928,9.160000565490698,9.750000628987861,10.360000709470556,10.990000792478256,11.640000878408921,12.31000096955879,13.000001065458894],\"type\":\"scatter\"}],                        {\"template\":{\"data\":{\"barpolar\":[{\"marker\":{\"line\":{\"color\":\"#E5ECF6\",\"width\":0.5},\"pattern\":{\"fillmode\":\"overlay\",\"size\":10,\"solidity\":0.2}},\"type\":\"barpolar\"}],\"bar\":[{\"error_x\":{\"color\":\"#2a3f5f\"},\"error_y\":{\"color\":\"#2a3f5f\"},\"marker\":{\"line\":{\"color\":\"#E5ECF6\",\"width\":0.5},\"pattern\":{\"fillmode\":\"overlay\",\"size\":10,\"solidity\":0.2}},\"type\":\"bar\"}],\"carpet\":[{\"aaxis\":{\"endlinecolor\":\"#2a3f5f\",\"gridcolor\":\"white\",\"linecolor\":\"white\",\"minorgridcolor\":\"white\",\"startlinecolor\":\"#2a3f5f\"},\"baxis\":{\"endlinecolor\":\"#2a3f5f\",\"gridcolor\":\"white\",\"linecolor\":\"white\",\"minorgridcolor\":\"white\",\"startlinecolor\":\"#2a3f5f\"},\"type\":\"carpet\"}],\"choropleth\":[{\"colorbar\":{\"outlinewidth\":0,\"ticks\":\"\"},\"type\":\"choropleth\"}],\"contourcarpet\":[{\"colorbar\":{\"outlinewidth\":0,\"ticks\":\"\"},\"type\":\"contourcarpet\"}],\"contour\":[{\"colorbar\":{\"outlinewidth\":0,\"ticks\":\"\"},\"colorscale\":[[0.0,\"#0d0887\"],[0.1111111111111111,\"#46039f\"],[0.2222222222222222,\"#7201a8\"],[0.3333333333333333,\"#9c179e\"],[0.4444444444444444,\"#bd3786\"],[0.5555555555555556,\"#d8576b\"],[0.6666666666666666,\"#ed7953\"],[0.7777777777777778,\"#fb9f3a\"],[0.8888888888888888,\"#fdca26\"],[1.0,\"#f0f921\"]],\"type\":\"contour\"}],\"heatmapgl\":[{\"colorbar\":{\"outlinewidth\":0,\"ticks\":\"\"},\"colorscale\":[[0.0,\"#0d0887\"],[0.1111111111111111,\"#46039f\"],[0.2222222222222222,\"#7201a8\"],[0.3333333333333333,\"#9c179e\"],[0.4444444444444444,\"#bd3786\"],[0.5555555555555556,\"#d8576b\"],[0.6666666666666666,\"#ed7953\"],[0.7777777777777778,\"#fb9f3a\"],[0.8888888888888888,\"#fdca26\"],[1.0,\"#f0f921\"]],\"type\":\"heatmapgl\"}],\"heatmap\":[{\"colorbar\":{\"outlinewidth\":0,\"ticks\":\"\"},\"colorscale\":[[0.0,\"#0d0887\"],[0.1111111111111111,\"#46039f\"],[0.2222222222222222,\"#7201a8\"],[0.3333333333333333,\"#9c179e\"],[0.4444444444444444,\"#bd3786\"],[0.5555555555555556,\"#d8576b\"],[0.6666666666666666,\"#ed7953\"],[0.7777777777777778,\"#fb9f3a\"],[0.8888888888888888,\"#fdca26\"],[1.0,\"#f0f921\"]],\"type\":\"heatmap\"}],\"histogram2dcontour\":[{\"colorbar\":{\"outlinewidth\":0,\"ticks\":\"\"},\"colorscale\":[[0.0,\"#0d0887\"],[0.1111111111111111,\"#46039f\"],[0.2222222222222222,\"#7201a8\"],[0.3333333333333333,\"#9c179e\"],[0.4444444444444444,\"#bd3786\"],[0.5555555555555556,\"#d8576b\"],[0.6666666666666666,\"#ed7953\"],[0.7777777777777778,\"#fb9f3a\"],[0.8888888888888888,\"#fdca26\"],[1.0,\"#f0f921\"]],\"type\":\"histogram2dcontour\"}],\"histogram2d\":[{\"colorbar\":{\"outlinewidth\":0,\"ticks\":\"\"},\"colorscale\":[[0.0,\"#0d0887\"],[0.1111111111111111,\"#46039f\"],[0.2222222222222222,\"#7201a8\"],[0.3333333333333333,\"#9c179e\"],[0.4444444444444444,\"#bd3786\"],[0.5555555555555556,\"#d8576b\"],[0.6666666666666666,\"#ed7953\"],[0.7777777777777778,\"#fb9f3a\"],[0.8888888888888888,\"#fdca26\"],[1.0,\"#f0f921\"]],\"type\":\"histogram2d\"}],\"histogram\":[{\"marker\":{\"pattern\":{\"fillmode\":\"overlay\",\"size\":10,\"solidity\":0.2}},\"type\":\"histogram\"}],\"mesh3d\":[{\"colorbar\":{\"outlinewidth\":0,\"ticks\":\"\"},\"type\":\"mesh3d\"}],\"parcoords\":[{\"line\":{\"colorbar\":{\"outlinewidth\":0,\"ticks\":\"\"}},\"type\":\"parcoords\"}],\"pie\":[{\"automargin\":true,\"type\":\"pie\"}],\"scatter3d\":[{\"line\":{\"colorbar\":{\"outlinewidth\":0,\"ticks\":\"\"}},\"marker\":{\"colorbar\":{\"outlinewidth\":0,\"ticks\":\"\"}},\"type\":\"scatter3d\"}],\"scattercarpet\":[{\"marker\":{\"colorbar\":{\"outlinewidth\":0,\"ticks\":\"\"}},\"type\":\"scattercarpet\"}],\"scattergeo\":[{\"marker\":{\"colorbar\":{\"outlinewidth\":0,\"ticks\":\"\"}},\"type\":\"scattergeo\"}],\"scattergl\":[{\"marker\":{\"colorbar\":{\"outlinewidth\":0,\"ticks\":\"\"}},\"type\":\"scattergl\"}],\"scattermapbox\":[{\"marker\":{\"colorbar\":{\"outlinewidth\":0,\"ticks\":\"\"}},\"type\":\"scattermapbox\"}],\"scatterpolargl\":[{\"marker\":{\"colorbar\":{\"outlinewidth\":0,\"ticks\":\"\"}},\"type\":\"scatterpolargl\"}],\"scatterpolar\":[{\"marker\":{\"colorbar\":{\"outlinewidth\":0,\"ticks\":\"\"}},\"type\":\"scatterpolar\"}],\"scatter\":[{\"marker\":{\"colorbar\":{\"outlinewidth\":0,\"ticks\":\"\"}},\"type\":\"scatter\"}],\"scatterternary\":[{\"marker\":{\"colorbar\":{\"outlinewidth\":0,\"ticks\":\"\"}},\"type\":\"scatterternary\"}],\"surface\":[{\"colorbar\":{\"outlinewidth\":0,\"ticks\":\"\"},\"colorscale\":[[0.0,\"#0d0887\"],[0.1111111111111111,\"#46039f\"],[0.2222222222222222,\"#7201a8\"],[0.3333333333333333,\"#9c179e\"],[0.4444444444444444,\"#bd3786\"],[0.5555555555555556,\"#d8576b\"],[0.6666666666666666,\"#ed7953\"],[0.7777777777777778,\"#fb9f3a\"],[0.8888888888888888,\"#fdca26\"],[1.0,\"#f0f921\"]],\"type\":\"surface\"}],\"table\":[{\"cells\":{\"fill\":{\"color\":\"#EBF0F8\"},\"line\":{\"color\":\"white\"}},\"header\":{\"fill\":{\"color\":\"#C8D4E3\"},\"line\":{\"color\":\"white\"}},\"type\":\"table\"}]},\"layout\":{\"annotationdefaults\":{\"arrowcolor\":\"#2a3f5f\",\"arrowhead\":0,\"arrowwidth\":1},\"autotypenumbers\":\"strict\",\"coloraxis\":{\"colorbar\":{\"outlinewidth\":0,\"ticks\":\"\"}},\"colorscale\":{\"diverging\":[[0,\"#8e0152\"],[0.1,\"#c51b7d\"],[0.2,\"#de77ae\"],[0.3,\"#f1b6da\"],[0.4,\"#fde0ef\"],[0.5,\"#f7f7f7\"],[0.6,\"#e6f5d0\"],[0.7,\"#b8e186\"],[0.8,\"#7fbc41\"],[0.9,\"#4d9221\"],[1,\"#276419\"]],\"sequential\":[[0.0,\"#0d0887\"],[0.1111111111111111,\"#46039f\"],[0.2222222222222222,\"#7201a8\"],[0.3333333333333333,\"#9c179e\"],[0.4444444444444444,\"#bd3786\"],[0.5555555555555556,\"#d8576b\"],[0.6666666666666666,\"#ed7953\"],[0.7777777777777778,\"#fb9f3a\"],[0.8888888888888888,\"#fdca26\"],[1.0,\"#f0f921\"]],\"sequentialminus\":[[0.0,\"#0d0887\"],[0.1111111111111111,\"#46039f\"],[0.2222222222222222,\"#7201a8\"],[0.3333333333333333,\"#9c179e\"],[0.4444444444444444,\"#bd3786\"],[0.5555555555555556,\"#d8576b\"],[0.6666666666666666,\"#ed7953\"],[0.7777777777777778,\"#fb9f3a\"],[0.8888888888888888,\"#fdca26\"],[1.0,\"#f0f921\"]]},\"colorway\":[\"#636efa\",\"#EF553B\",\"#00cc96\",\"#ab63fa\",\"#FFA15A\",\"#19d3f3\",\"#FF6692\",\"#B6E880\",\"#FF97FF\",\"#FECB52\"],\"font\":{\"color\":\"#2a3f5f\"},\"geo\":{\"bgcolor\":\"white\",\"lakecolor\":\"white\",\"landcolor\":\"#E5ECF6\",\"showlakes\":true,\"showland\":true,\"subunitcolor\":\"white\"},\"hoverlabel\":{\"align\":\"left\"},\"hovermode\":\"closest\",\"mapbox\":{\"style\":\"light\"},\"paper_bgcolor\":\"white\",\"plot_bgcolor\":\"#E5ECF6\",\"polar\":{\"angularaxis\":{\"gridcolor\":\"white\",\"linecolor\":\"white\",\"ticks\":\"\"},\"bgcolor\":\"#E5ECF6\",\"radialaxis\":{\"gridcolor\":\"white\",\"linecolor\":\"white\",\"ticks\":\"\"}},\"scene\":{\"xaxis\":{\"backgroundcolor\":\"#E5ECF6\",\"gridcolor\":\"white\",\"gridwidth\":2,\"linecolor\":\"white\",\"showbackground\":true,\"ticks\":\"\",\"zerolinecolor\":\"white\"},\"yaxis\":{\"backgroundcolor\":\"#E5ECF6\",\"gridcolor\":\"white\",\"gridwidth\":2,\"linecolor\":\"white\",\"showbackground\":true,\"ticks\":\"\",\"zerolinecolor\":\"white\"},\"zaxis\":{\"backgroundcolor\":\"#E5ECF6\",\"gridcolor\":\"white\",\"gridwidth\":2,\"linecolor\":\"white\",\"showbackground\":true,\"ticks\":\"\",\"zerolinecolor\":\"white\"}},\"shapedefaults\":{\"line\":{\"color\":\"#2a3f5f\"}},\"ternary\":{\"aaxis\":{\"gridcolor\":\"white\",\"linecolor\":\"white\",\"ticks\":\"\"},\"baxis\":{\"gridcolor\":\"white\",\"linecolor\":\"white\",\"ticks\":\"\"},\"bgcolor\":\"#E5ECF6\",\"caxis\":{\"gridcolor\":\"white\",\"linecolor\":\"white\",\"ticks\":\"\"}},\"title\":{\"x\":0.05},\"xaxis\":{\"automargin\":true,\"gridcolor\":\"white\",\"linecolor\":\"white\",\"ticks\":\"\",\"title\":{\"standoff\":15},\"zerolinecolor\":\"white\",\"zerolinewidth\":2},\"yaxis\":{\"automargin\":true,\"gridcolor\":\"white\",\"linecolor\":\"white\",\"ticks\":\"\",\"title\":{\"standoff\":15},\"zerolinecolor\":\"white\",\"zerolinewidth\":2}}},\"xaxis\":{\"title\":{\"text\":\"x\"}},\"yaxis\":{\"title\":{\"text\":\"y\"}}},                        {\"responsive\": true}                    ).then(function(){\n",
              "                            \n",
              "var gd = document.getElementById('610c8d13-8a3d-4bf2-bca9-0591f3827a82');\n",
              "var x = new MutationObserver(function (mutations, observer) {{\n",
              "        var display = window.getComputedStyle(gd).display;\n",
              "        if (!display || display === 'none') {{\n",
              "            console.log([gd, 'removed!']);\n",
              "            Plotly.purge(gd);\n",
              "            observer.disconnect();\n",
              "        }}\n",
              "}});\n",
              "\n",
              "// Listen for the removal of the full notebook cells\n",
              "var notebookContainer = gd.closest('#notebook-container');\n",
              "if (notebookContainer) {{\n",
              "    x.observe(notebookContainer, {childList: true});\n",
              "}}\n",
              "\n",
              "// Listen for the clearing of the current output cell\n",
              "var outputEl = gd.closest('.output');\n",
              "if (outputEl) {{\n",
              "    x.observe(outputEl, {childList: true});\n",
              "}}\n",
              "\n",
              "                        })                };                            </script>        </div>\n",
              "</body>\n",
              "</html>"
            ]
          },
          "metadata": {}
        }
      ]
    },
    {
      "cell_type": "code",
      "source": [],
      "metadata": {
        "id": "St6c-ocCtBQ8"
      },
      "execution_count": 129,
      "outputs": []
    }
  ]
}