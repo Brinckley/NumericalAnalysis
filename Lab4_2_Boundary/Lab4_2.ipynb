{
  "nbformat": 4,
  "nbformat_minor": 0,
  "metadata": {
    "colab": {
      "provenance": [],
      "collapsed_sections": []
    },
    "kernelspec": {
      "name": "python3",
      "display_name": "Python 3"
    },
    "language_info": {
      "name": "python"
    }
  },
  "cells": [
    {
      "cell_type": "code",
      "execution_count": 22,
      "metadata": {
        "id": "-J1UufXBsVIg"
      },
      "outputs": [],
      "source": [
        "import numpy as np\n",
        "import math\n",
        "import plotly.offline as offline\n",
        "from plotly.graph_objs import *\n",
        "\n",
        "import math\n",
        "from copy import deepcopy\n",
        "\n",
        "EPS = 0.001"
      ]
    },
    {
      "cell_type": "markdown",
      "source": [
        "![2022-08-25_233507.png](data:image/png;base64,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)"
      ],
      "metadata": {
        "id": "FlR7ETAMtspW"
      }
    },
    {
      "cell_type": "markdown",
      "source": [
        "Функция трех переменных с заменой  \n",
        "*z = y'*"
      ],
      "metadata": {
        "id": "vLd0Wd_1zmUD"
      }
    },
    {
      "cell_type": "code",
      "source": [
        "def fxyz(x, y, z):\n",
        "  return math.tan(x) * z - 2 * y"
      ],
      "metadata": {
        "id": "wofcp8T_zSIl"
      },
      "execution_count": 23,
      "outputs": []
    },
    {
      "cell_type": "markdown",
      "source": [
        "Точное решение"
      ],
      "metadata": {
        "id": "3sYUk3phvnLl"
      }
    },
    {
      "cell_type": "code",
      "source": [
        "def y_exact(x):\n",
        "  return math.sin(x) + 2 - math.sin(x) * math.log((1 + math.sin(x)) / (1 - math.sin(x)))"
      ],
      "metadata": {
        "id": "jLDqVCtZtqbk"
      },
      "execution_count": 24,
      "outputs": []
    },
    {
      "cell_type": "markdown",
      "source": [
        "Список всех величин х"
      ],
      "metadata": {
        "id": "Fo9YJvkswm9P"
      }
    },
    {
      "cell_type": "code",
      "source": [
        "def x_list(a, b, h):\n",
        "    return list(np.arange(a, b, h))"
      ],
      "metadata": {
        "id": "hXwpIE2Uvk2N"
      },
      "execution_count": 25,
      "outputs": []
    },
    {
      "cell_type": "markdown",
      "source": [
        "Точное решение"
      ],
      "metadata": {
        "id": "yXyybPXUrgss"
      }
    },
    {
      "cell_type": "code",
      "source": [
        "h = 0.01\n",
        "a = 0\n",
        "b = math.pi / 6\n",
        "\n",
        "x_exact = x_list(a, b, h)\n",
        "res_exact = [y_exact(i) for i in x_exact]\n",
        "res_exact"
      ],
      "metadata": {
        "id": "RUmufCePrjxc"
      },
      "execution_count": null,
      "outputs": []
    },
    {
      "cell_type": "code",
      "source": [
        "# начальные условия\n",
        "h = 0.01\n",
        "\n",
        "a = 0\n",
        "b = math.pi / 6\n",
        "\n",
        "y_left = 2\n",
        "y_right = 2.5 - 0.5 * math.log(3)\n",
        "\n",
        "x = x_list(a, b, h)"
      ],
      "metadata": {
        "id": "0ZdQGBpgHif9"
      },
      "execution_count": 26,
      "outputs": []
    },
    {
      "cell_type": "markdown",
      "source": [
        "-------"
      ],
      "metadata": {
        "id": "X_lER5YFwkYi"
      }
    },
    {
      "cell_type": "markdown",
      "source": [
        "**Погрешность методом Рунге – Ромберга**"
      ],
      "metadata": {
        "id": "vuBiSfq3whZt"
      }
    },
    {
      "cell_type": "code",
      "source": [
        "def runge_romberg(y_l, y_r, p):\n",
        "    return (sum((y_l[i] - y_r[i]) ** 2 for i in range(len(y_r))) ** 0.5) / (2 ** p - 1)"
      ],
      "metadata": {
        "id": "YzwPdBXmwef-"
      },
      "execution_count": 27,
      "outputs": []
    },
    {
      "cell_type": "markdown",
      "source": [
        "-----------"
      ],
      "metadata": {
        "id": "VpjLM7Fewxlq"
      }
    },
    {
      "cell_type": "markdown",
      "source": [
        "**Метод Стрельбы**"
      ],
      "metadata": {
        "id": "m6wQUHRfwyuu"
      }
    },
    {
      "cell_type": "markdown",
      "source": [
        "Метод Рунге-Кутты 4-го порядка"
      ],
      "metadata": {
        "id": "ZnS0CtK0y8gL"
      }
    },
    {
      "cell_type": "code",
      "source": [
        "def runge_kutta(x, y0, z0, h):\n",
        "    y = [y0]\n",
        "    z = [z0]\n",
        "    for k in range(len(x) - 1):\n",
        "        K1 = h * z[k]\n",
        "        L1 = h * fxyz(x[k], y[k], z[k])\n",
        "        K2 = h * (z[k] + L1/2)\n",
        "        L2 = h * fxyz(x[k] + h/2, y[k] + K1/2, z[k] + L1/2)\n",
        "        K3 = h * (z[k] + L2/2)\n",
        "        L3 = h * fxyz(x[k] + h/2, y[k] + K2/2, z[k] + L2/2)\n",
        "        K4 = h * (z[k] + L3)\n",
        "        L4 = h * fxyz(x[k] + h, y[k] + K3, z[k] + L3)\n",
        "\n",
        "        delta = ((K1 + 2 * K2 + 2 * K3 + K4) / 6, (L1 + 2 * L2 + 2 * L3 + L4) / 6)\n",
        "        \n",
        "        y.append(y[k] + delta[0])\n",
        "        z.append(z[k] + delta[1])\n",
        "    return y"
      ],
      "metadata": {
        "id": "SEg-l51IwhBt"
      },
      "execution_count": 8,
      "outputs": []
    },
    {
      "cell_type": "markdown",
      "source": [
        "Метод для вычисления η"
      ],
      "metadata": {
        "id": "3gepGDqX1Tqm"
      }
    },
    {
      "cell_type": "markdown",
      "source": [
        "![image.png](data:image/png;base64,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)"
      ],
      "metadata": {
        "id": "b2tM2-rBos0_"
      }
    },
    {
      "cell_type": "code",
      "source": [
        "def Eta2_calc(PHI0, PHI1, Eta0, Eta1):                     # η - некоторое значение тангенса угла наклона касательной к решению в точке x = a\n",
        "    return Eta1 - PHI1 * (Eta1 - Eta0) / (PHI1 - PHI0)"
      ],
      "metadata": {
        "id": "Y-Bgl6OEzB5R"
      },
      "execution_count": 9,
      "outputs": []
    },
    {
      "cell_type": "markdown",
      "source": [
        "Метод стрельбы"
      ],
      "metadata": {
        "id": "0h-wxcNREuGA"
      }
    },
    {
      "cell_type": "code",
      "source": [
        "def shooting(x, y0, y1, h):\n",
        "    et_prev = 1\n",
        "    et_i = 0.8\n",
        "    \n",
        "    y_prev = runge_kutta(x, y0, et_prev, h)  \n",
        "    y_i = runge_kutta(x, y0, et_i, h)         # решаем задачу Коши с помощью метода Рунге-Кута \n",
        "\n",
        "    PHI_prev = y_prev[-1] - y1   \n",
        "    PHI_i = y_i[-1] - y1\n",
        "    \n",
        "    while abs(PHI_i) > EPS:                   # изменяем значение только на левом конце отрезка\n",
        "        et_prev, et_i = et_i, Eta2_calc(PHI_prev, PHI_i, et_prev, et_i)\n",
        "        y_prev = y_i\n",
        "        y_i = runge_kutta(x, y0, et_i, h)     # решаем задачу Коши для каждого нового η\n",
        "        PHI_prev = PHI_i\n",
        "        PHI_i = y_i[-1] - y1\n",
        "    return y_i"
      ],
      "metadata": {
        "id": "Z43BhpUv1xc2"
      },
      "execution_count": 10,
      "outputs": []
    },
    {
      "cell_type": "code",
      "source": [
        "res_shooting = shooting(x, y_left, y_right, h)\n",
        "res_shooting"
      ],
      "metadata": {
        "id": "nNJzkgHGDVO1",
        "colab": {
          "base_uri": "https://localhost:8080/"
        },
        "outputId": "a96a2107-464b-4678-f362-26170769f11e"
      },
      "execution_count": 11,
      "outputs": [
        {
          "output_type": "execute_result",
          "data": {
            "text/plain": [
              "[2,\n",
              " 2.0097106189261402,\n",
              " 2.0190202467960905,\n",
              " 2.0279278926313147,\n",
              " 2.03643256558209,\n",
              " 2.044533274946423,\n",
              " 2.052229030156689,\n",
              " 2.0595188407338103,\n",
              " 2.0664017162087256,\n",
              " 2.072876666010858,\n",
              " 2.078942699323228,\n",
              " 2.0845988249038108,\n",
              " 2.089844050872673,\n",
              " 2.0946773844643696,\n",
              " 2.0990978317450257,\n",
              " 2.10310439729346,\n",
              " 2.106696083845651,\n",
              " 2.1098718919017783,\n",
              " 2.1126308192949974,\n",
              " 2.1149718607210577,\n",
              " 2.1168940072277684,\n",
              " 2.118396245663273,\n",
              " 2.1194775580819885,\n",
              " 2.120136921107002,\n",
              " 2.120373305247612,\n",
              " 2.1201856741706293,\n",
              " 2.119572983923939,\n",
              " 2.118534182110735,\n",
              " 2.1170682070127294,\n",
              " 2.115173986660528,\n",
              " 2.1128504378492368,\n",
              " 2.1100964650972522,\n",
              " 2.106910959546045,\n",
              " 2.1032927977986104,\n",
              " 2.09924084069411,\n",
              " 2.0947539320160655,\n",
              " 2.089830897131311,\n",
              " 2.084470541556714,\n",
              " 2.0786716494504973,\n",
              " 2.0724329820247864,\n",
              " 2.0657532758757955,\n",
              " 2.058631241227827,\n",
              " 2.0510655600870242,\n",
              " 2.0430548843005396,\n",
              " 2.0345978335165187,\n",
              " 2.0256929930399807,\n",
              " 2.016338911579368,\n",
              " 2.006534098878185,\n",
              " 1.996277023225777,\n",
              " 1.9855661088409078,\n",
              " 1.9743997331213623,\n",
              " 1.9627762237523436,\n",
              " 1.9506938556659439]"
            ]
          },
          "metadata": {},
          "execution_count": 11
        }
      ]
    },
    {
      "cell_type": "markdown",
      "source": [
        "Погрешность методом Рунге – Ромберга для Метода Стрельбы "
      ],
      "metadata": {
        "id": "iRq3r-qAEkrY"
      }
    },
    {
      "cell_type": "code",
      "source": [
        "p = 4\n",
        "\n",
        "x_ = x_list(a, b, h / 2)\n",
        "res_shooting2 = shooting(x, y_left, y_right, h / 2)\n",
        "runge_romberg(res_shooting, res_shooting2, p)"
      ],
      "metadata": {
        "colab": {
          "base_uri": "https://localhost:8080/"
        },
        "id": "eFKmREeADXEz",
        "outputId": "e7171f79-8f2b-4091-aed5-df1bfc94def8"
      },
      "execution_count": 12,
      "outputs": [
        {
          "output_type": "execute_result",
          "data": {
            "text/plain": [
              "0.038527944832162715"
            ]
          },
          "metadata": {},
          "execution_count": 12
        }
      ]
    },
    {
      "cell_type": "markdown",
      "source": [
        "----------"
      ],
      "metadata": {
        "id": "mI4pXRxhLute"
      }
    },
    {
      "cell_type": "markdown",
      "source": [
        "**Конечно-разностный метод**"
      ],
      "metadata": {
        "id": "EtKGEArIL4Jp"
      }
    },
    {
      "cell_type": "markdown",
      "source": [
        "Разложим функцию  \n",
        "![2022-08-26_160629.png](data:image/png;base64,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)"
      ],
      "metadata": {
        "id": "i44LvnpxQo75"
      }
    },
    {
      "cell_type": "markdown",
      "source": [
        "y'' + p(x_k) * y' + q(x_k) * y = f(x_k)"
      ],
      "metadata": {
        "id": "e3VDdCVpR5xA"
      }
    },
    {
      "cell_type": "code",
      "source": [
        "def pf(x):\n",
        "  return -math.tan(x)"
      ],
      "metadata": {
        "id": "sai4LYNbEOmC"
      },
      "execution_count": 13,
      "outputs": []
    },
    {
      "cell_type": "code",
      "source": [
        "def qf(x):\n",
        "  return 2"
      ],
      "metadata": {
        "id": "WFF1tnMERGZ_"
      },
      "execution_count": 14,
      "outputs": []
    },
    {
      "cell_type": "code",
      "source": [
        "def ff(x):\n",
        "  return 0"
      ],
      "metadata": {
        "id": "nnggcOdtRIxK"
      },
      "execution_count": 15,
      "outputs": []
    },
    {
      "cell_type": "markdown",
      "source": [
        "Решение уравнения трехдиагональной матрицы"
      ],
      "metadata": {
        "id": "QGS-M85XOrMk"
      }
    },
    {
      "cell_type": "code",
      "source": [
        "def tma(a, b, c, d, shape):\n",
        "    p = [-c[0] / b[0]]\n",
        "    q = [d[0] / b[0]]\n",
        "    x = [0] * (shape + 1)\n",
        "    for i in range(1, shape):\n",
        "        p.append(-c[i] / (b[i] + a[i] * p[i - 1]))\n",
        "        q.append((d[i] - a[i] * q[i - 1]) / (b[i] + a[i] * p[i - 1]))\n",
        "    for i in reversed(range(shape)):\n",
        "        x[i] = p[i] * x[i + 1] + q[i]\n",
        "    return x[:-1]"
      ],
      "metadata": {
        "id": "cwrg5gJDVYk8"
      },
      "execution_count": 16,
      "outputs": []
    },
    {
      "cell_type": "markdown",
      "source": [
        "![image.png](data:image/png;base64,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)"
      ],
      "metadata": {
        "id": "-D14RSWdcp8-"
      }
    },
    {
      "cell_type": "code",
      "source": [
        "def finite_difference_method(a, b, y0, y1, h):\n",
        "    n = int((b - a) / h)\n",
        "    x = [i for i in np.arange(a, b + h, h)]                                     # записываем уравнения для системы \n",
        "    A = [0] + [1 - pf(x[i]) * h / 2 for i in range(0, n - 1)] + [0]\n",
        "    B = [h] + [qf(x[i]) * h ** 2 - 2 for i in range(0, n - 1)] + [h]\n",
        "    C = [0] + [1 + pf(x[i]) * h / 2 for i in range(0, n - 1)] + [0]\n",
        "    D = [y0 * h] + [ff(x[i]) * h ** 2 for i in range(0, n - 1)] + [y1 * h]      # список решений\n",
        "\n",
        "    y = tma(A, B, C, D, len(A))\n",
        "    return x, y"
      ],
      "metadata": {
        "id": "KXKlQLdHa3AE"
      },
      "execution_count": 29,
      "outputs": []
    },
    {
      "cell_type": "code",
      "source": [
        "a = 0\n",
        "b = math.pi / 6\n",
        "y0 = 2\n",
        "yn = 2.5 - 0.5 * math.log(3)\n",
        "h = 0.01\n",
        "\n",
        "x_, res_difference = finite_difference_method(a, b, y0, yn, h)\n",
        "res_difference"
      ],
      "metadata": {
        "id": "uWH_CTmgbFXj",
        "colab": {
          "base_uri": "https://localhost:8080/"
        },
        "outputId": "1142773e-4104-44de-e73e-2b2c96dbbd6f"
      },
      "execution_count": 30,
      "outputs": [
        {
          "output_type": "execute_result",
          "data": {
            "text/plain": [
              "[2.0,\n",
              " 2.0097169024574555,\n",
              " 2.01903186153442,\n",
              " 2.0279439256206144,\n",
              " 2.036452143182158,\n",
              " 2.0445555628084358,\n",
              " 2.05225323322669,\n",
              " 2.0595442032841773,\n",
              " 2.0664275218977117,\n",
              " 2.072902237970347,\n",
              " 2.078967400274901,\n",
              " 2.084622057303968,\n",
              " 2.0898652570860228,\n",
              " 2.0946960469671354,\n",
              " 2.099113473357797,\n",
              " 2.103116581444256,\n",
              " 2.106704414863735,\n",
              " 2.109876015342823,\n",
              " 2.112630422298262,\n",
              " 2.114966672399307,\n",
              " 2.1168837990907305,\n",
              " 2.1183808320755078,\n",
              " 2.1194567967561104,\n",
              " 2.12011071363328,\n",
              " 2.120341597661056,\n",
              " 2.1201484575567453,\n",
              " 2.1195302950644415,\n",
              " 2.1184861041705876,\n",
              " 2.1170148702699896,\n",
              " 2.115115569280572,\n",
              " 2.1127871667050573,\n",
              " 2.1100286166376354,\n",
              " 2.1068388607135518,\n",
              " 2.103216826999426,\n",
              " 2.09916142882196,\n",
              " 2.094671563532545,\n",
              " 2.089746111205126,\n",
              " 2.0843839332645047,\n",
              " 2.0785838710420905,\n",
              " 2.0723447442559046,\n",
              " 2.06566534941146,\n",
              " 2.058544458119899,\n",
              " 2.0509808153295634,\n",
              " 2.042973137466899,\n",
              " 2.0345201104823554,\n",
              " 2.0256203877966446,\n",
              " 2.016272588142431,\n",
              " 2.006475293296189,\n",
              " 1.9962270456946274,\n",
              " 1.9855263459297103,\n",
              " 1.9743716501158959,\n",
              " 1.9627613671227875,\n",
              " 1.9506938556659448]"
            ]
          },
          "metadata": {},
          "execution_count": 30
        }
      ]
    },
    {
      "cell_type": "markdown",
      "source": [
        "\n",
        "Погрешность методом Рунге – Ромберга для Конечно-разностного метода"
      ],
      "metadata": {
        "id": "dA8B_QlWpvKo"
      }
    },
    {
      "cell_type": "code",
      "source": [
        "p = 4\n",
        "\n",
        "x_2, res_difference2 = finite_difference_method(a, b, y0, yn, h / 2)\n",
        "runge_romberg(res_difference, res_difference2[:len(res_difference)], p)"
      ],
      "metadata": {
        "colab": {
          "base_uri": "https://localhost:8080/"
        },
        "id": "vR-RFrDZJRoX",
        "outputId": "a3fe8974-9379-449c-a248-df0f6948a19e"
      },
      "execution_count": 31,
      "outputs": [
        {
          "output_type": "execute_result",
          "data": {
            "text/plain": [
              "0.02959638261855139"
            ]
          },
          "metadata": {},
          "execution_count": 31
        }
      ]
    },
    {
      "cell_type": "markdown",
      "source": [
        "----"
      ],
      "metadata": {
        "id": "o05xb_Nuqfvh"
      }
    },
    {
      "cell_type": "markdown",
      "source": [
        "Графики"
      ],
      "metadata": {
        "id": "KLmDUTzFqg-9"
      }
    },
    {
      "cell_type": "code",
      "source": [
        "scatter_exact = Scatter(x = x, y = res_exact, name = 'Exact solution', mode = 'markers + lines', showlegend = True)\n",
        "scatter_shooting = Scatter(x = x, y = res_shooting, name = 'Shooting method', mode = 'markers + lines', showlegend = True)\n",
        "scatter_difference = Scatter(x = x, y = res_difference, name = 'Finite difference method', mode = 'markers + lines', showlegend = True)\n",
        "data = [scatter_exact, scatter_shooting, scatter_difference]\n",
        "layout = Layout(title = 'Решения краевой задачи для ОДУ', xaxis = dict(title = 'x'), yaxis = dict(title = 'y'))\n",
        "\n",
        "fig = Figure(data = data, layout = layout)\n",
        "offline.iplot(fig)"
      ],
      "metadata": {
        "id": "qx46CTJl9Cu8",
        "colab": {
          "base_uri": "https://localhost:8080/",
          "height": 542
        },
        "outputId": "0ed0d90e-a69e-44ce-8635-ebbb05091883"
      },
      "execution_count": 32,
      "outputs": [
        {
          "output_type": "display_data",
          "data": {
            "text/html": [
              "<html>\n",
              "<head><meta charset=\"utf-8\" /></head>\n",
              "<body>\n",
              "    <div>            <script src=\"https://cdnjs.cloudflare.com/ajax/libs/mathjax/2.7.5/MathJax.js?config=TeX-AMS-MML_SVG\"></script><script type=\"text/javascript\">if (window.MathJax) {MathJax.Hub.Config({SVG: {font: \"STIX-Web\"}});}</script>                <script type=\"text/javascript\">window.PlotlyConfig = {MathJaxConfig: 'local'};</script>\n",
              "        <script src=\"https://cdn.plot.ly/plotly-2.8.3.min.js\"></script>                <div id=\"7d3038b3-142f-435e-a871-6205126eb586\" class=\"plotly-graph-div\" style=\"height:525px; width:100%;\"></div>            <script type=\"text/javascript\">                                    window.PLOTLYENV=window.PLOTLYENV || {};                                    if (document.getElementById(\"7d3038b3-142f-435e-a871-6205126eb586\")) {                    Plotly.newPlot(                        \"7d3038b3-142f-435e-a871-6205126eb586\",                        [{\"mode\":\"markers+lines\",\"name\":\"Exact solution\",\"showlegend\":true,\"x\":[0.0,0.01,0.02,0.03,0.04,0.05,0.06,0.07,0.08,0.09,0.1,0.11,0.12,0.13,0.14,0.15,0.16,0.17,0.18,0.19,0.2,0.21,0.22,0.23,0.24,0.25,0.26,0.27,0.28,0.29,0.3,0.31,0.32,0.33,0.34,0.35000000000000003,0.36,0.37,0.38,0.39,0.4,0.41000000000000003,0.42,0.43,0.44,0.45,0.46,0.47000000000000003,0.48,0.49,0.5,0.51,0.52],\"y\":[2.0,2.0097998333341223,2.0191986666904884,2.0281955001700873,2.0367893340045065,2.0449791685757375,2.052764004403709,2.060142842101356,2.0671146822969786,2.0736785255236008,2.0798333720749747,2.085578221827826,2.0909120740298768,2.0958339270531328,2.100342778111848,2.1044376229445376,2.108117455459324,2.111381267341863,2.1142280476250015,2.1166567822192714,2.118666453403238,2.120256039272648,2.121424513147249,2.1221708429340533,2.122493990445755,2.122392910672899,2.1218665510083117,2.120913850422198,2.1195337385862207,2.1177251349447284,2.1154869477312253,2.11281807292802,2.1097173931668567,2.1061837765682214,2.102216075516829,2.097813125370666,2.0929737431007807,2.087696725858847,2.0819808494693226,2.075824866842828,2.0692275063071643,2.0621874698521405,2.0547034312841443,2.046774034286139,2.0383978903784534,2.029573576775486,2.0202996341330546,2.010574564180846,2.000396827233993,1.9897648395774516,1.9786769707163958,1.9671315404854028,1.955126816008713],\"type\":\"scatter\"},{\"mode\":\"markers+lines\",\"name\":\"Shooting method\",\"showlegend\":true,\"x\":[0.0,0.01,0.02,0.03,0.04,0.05,0.06,0.07,0.08,0.09,0.1,0.11,0.12,0.13,0.14,0.15,0.16,0.17,0.18,0.19,0.2,0.21,0.22,0.23,0.24,0.25,0.26,0.27,0.28,0.29,0.3,0.31,0.32,0.33,0.34,0.35000000000000003,0.36,0.37,0.38,0.39,0.4,0.41000000000000003,0.42,0.43,0.44,0.45,0.46,0.47000000000000003,0.48,0.49,0.5,0.51,0.52],\"y\":[2,2.0097106189261402,2.0190202467960905,2.0279278926313147,2.03643256558209,2.044533274946423,2.052229030156689,2.0595188407338103,2.0664017162087256,2.072876666010858,2.078942699323228,2.0845988249038108,2.089844050872673,2.0946773844643696,2.0990978317450257,2.10310439729346,2.106696083845651,2.1098718919017783,2.1126308192949974,2.1149718607210577,2.1168940072277684,2.118396245663273,2.1194775580819885,2.120136921107002,2.120373305247612,2.1201856741706293,2.119572983923939,2.118534182110735,2.1170682070127294,2.115173986660528,2.1128504378492368,2.1100964650972522,2.106910959546045,2.1032927977986104,2.09924084069411,2.0947539320160655,2.089830897131311,2.084470541556714,2.0786716494504973,2.0724329820247864,2.0657532758757955,2.058631241227827,2.0510655600870242,2.0430548843005396,2.0345978335165187,2.0256929930399807,2.016338911579368,2.006534098878185,1.996277023225777,1.9855661088409078,1.9743997331213623,1.9627762237523436,1.9506938556659439],\"type\":\"scatter\"},{\"mode\":\"markers+lines\",\"name\":\"Finite difference method\",\"showlegend\":true,\"x\":[0.0,0.01,0.02,0.03,0.04,0.05,0.06,0.07,0.08,0.09,0.1,0.11,0.12,0.13,0.14,0.15,0.16,0.17,0.18,0.19,0.2,0.21,0.22,0.23,0.24,0.25,0.26,0.27,0.28,0.29,0.3,0.31,0.32,0.33,0.34,0.35000000000000003,0.36,0.37,0.38,0.39,0.4,0.41000000000000003,0.42,0.43,0.44,0.45,0.46,0.47000000000000003,0.48,0.49,0.5,0.51,0.52],\"y\":[2.0,2.0097169024574555,2.01903186153442,2.0279439256206144,2.036452143182158,2.0445555628084358,2.05225323322669,2.0595442032841773,2.0664275218977117,2.072902237970347,2.078967400274901,2.084622057303968,2.0898652570860228,2.0946960469671354,2.099113473357797,2.103116581444256,2.106704414863735,2.109876015342823,2.112630422298262,2.114966672399307,2.1168837990907305,2.1183808320755078,2.1194567967561104,2.12011071363328,2.120341597661056,2.1201484575567453,2.1195302950644415,2.1184861041705876,2.1170148702699896,2.115115569280572,2.1127871667050573,2.1100286166376354,2.1068388607135518,2.103216826999426,2.09916142882196,2.094671563532545,2.089746111205126,2.0843839332645047,2.0785838710420905,2.0723447442559046,2.06566534941146,2.058544458119899,2.0509808153295634,2.042973137466899,2.0345201104823554,2.0256203877966446,2.016272588142431,2.006475293296189,1.9962270456946274,1.9855263459297103,1.9743716501158959,1.9627613671227875,1.9506938556659448],\"type\":\"scatter\"}],                        {\"template\":{\"data\":{\"barpolar\":[{\"marker\":{\"line\":{\"color\":\"#E5ECF6\",\"width\":0.5},\"pattern\":{\"fillmode\":\"overlay\",\"size\":10,\"solidity\":0.2}},\"type\":\"barpolar\"}],\"bar\":[{\"error_x\":{\"color\":\"#2a3f5f\"},\"error_y\":{\"color\":\"#2a3f5f\"},\"marker\":{\"line\":{\"color\":\"#E5ECF6\",\"width\":0.5},\"pattern\":{\"fillmode\":\"overlay\",\"size\":10,\"solidity\":0.2}},\"type\":\"bar\"}],\"carpet\":[{\"aaxis\":{\"endlinecolor\":\"#2a3f5f\",\"gridcolor\":\"white\",\"linecolor\":\"white\",\"minorgridcolor\":\"white\",\"startlinecolor\":\"#2a3f5f\"},\"baxis\":{\"endlinecolor\":\"#2a3f5f\",\"gridcolor\":\"white\",\"linecolor\":\"white\",\"minorgridcolor\":\"white\",\"startlinecolor\":\"#2a3f5f\"},\"type\":\"carpet\"}],\"choropleth\":[{\"colorbar\":{\"outlinewidth\":0,\"ticks\":\"\"},\"type\":\"choropleth\"}],\"contourcarpet\":[{\"colorbar\":{\"outlinewidth\":0,\"ticks\":\"\"},\"type\":\"contourcarpet\"}],\"contour\":[{\"colorbar\":{\"outlinewidth\":0,\"ticks\":\"\"},\"colorscale\":[[0.0,\"#0d0887\"],[0.1111111111111111,\"#46039f\"],[0.2222222222222222,\"#7201a8\"],[0.3333333333333333,\"#9c179e\"],[0.4444444444444444,\"#bd3786\"],[0.5555555555555556,\"#d8576b\"],[0.6666666666666666,\"#ed7953\"],[0.7777777777777778,\"#fb9f3a\"],[0.8888888888888888,\"#fdca26\"],[1.0,\"#f0f921\"]],\"type\":\"contour\"}],\"heatmapgl\":[{\"colorbar\":{\"outlinewidth\":0,\"ticks\":\"\"},\"colorscale\":[[0.0,\"#0d0887\"],[0.1111111111111111,\"#46039f\"],[0.2222222222222222,\"#7201a8\"],[0.3333333333333333,\"#9c179e\"],[0.4444444444444444,\"#bd3786\"],[0.5555555555555556,\"#d8576b\"],[0.6666666666666666,\"#ed7953\"],[0.7777777777777778,\"#fb9f3a\"],[0.8888888888888888,\"#fdca26\"],[1.0,\"#f0f921\"]],\"type\":\"heatmapgl\"}],\"heatmap\":[{\"colorbar\":{\"outlinewidth\":0,\"ticks\":\"\"},\"colorscale\":[[0.0,\"#0d0887\"],[0.1111111111111111,\"#46039f\"],[0.2222222222222222,\"#7201a8\"],[0.3333333333333333,\"#9c179e\"],[0.4444444444444444,\"#bd3786\"],[0.5555555555555556,\"#d8576b\"],[0.6666666666666666,\"#ed7953\"],[0.7777777777777778,\"#fb9f3a\"],[0.8888888888888888,\"#fdca26\"],[1.0,\"#f0f921\"]],\"type\":\"heatmap\"}],\"histogram2dcontour\":[{\"colorbar\":{\"outlinewidth\":0,\"ticks\":\"\"},\"colorscale\":[[0.0,\"#0d0887\"],[0.1111111111111111,\"#46039f\"],[0.2222222222222222,\"#7201a8\"],[0.3333333333333333,\"#9c179e\"],[0.4444444444444444,\"#bd3786\"],[0.5555555555555556,\"#d8576b\"],[0.6666666666666666,\"#ed7953\"],[0.7777777777777778,\"#fb9f3a\"],[0.8888888888888888,\"#fdca26\"],[1.0,\"#f0f921\"]],\"type\":\"histogram2dcontour\"}],\"histogram2d\":[{\"colorbar\":{\"outlinewidth\":0,\"ticks\":\"\"},\"colorscale\":[[0.0,\"#0d0887\"],[0.1111111111111111,\"#46039f\"],[0.2222222222222222,\"#7201a8\"],[0.3333333333333333,\"#9c179e\"],[0.4444444444444444,\"#bd3786\"],[0.5555555555555556,\"#d8576b\"],[0.6666666666666666,\"#ed7953\"],[0.7777777777777778,\"#fb9f3a\"],[0.8888888888888888,\"#fdca26\"],[1.0,\"#f0f921\"]],\"type\":\"histogram2d\"}],\"histogram\":[{\"marker\":{\"pattern\":{\"fillmode\":\"overlay\",\"size\":10,\"solidity\":0.2}},\"type\":\"histogram\"}],\"mesh3d\":[{\"colorbar\":{\"outlinewidth\":0,\"ticks\":\"\"},\"type\":\"mesh3d\"}],\"parcoords\":[{\"line\":{\"colorbar\":{\"outlinewidth\":0,\"ticks\":\"\"}},\"type\":\"parcoords\"}],\"pie\":[{\"automargin\":true,\"type\":\"pie\"}],\"scatter3d\":[{\"line\":{\"colorbar\":{\"outlinewidth\":0,\"ticks\":\"\"}},\"marker\":{\"colorbar\":{\"outlinewidth\":0,\"ticks\":\"\"}},\"type\":\"scatter3d\"}],\"scattercarpet\":[{\"marker\":{\"colorbar\":{\"outlinewidth\":0,\"ticks\":\"\"}},\"type\":\"scattercarpet\"}],\"scattergeo\":[{\"marker\":{\"colorbar\":{\"outlinewidth\":0,\"ticks\":\"\"}},\"type\":\"scattergeo\"}],\"scattergl\":[{\"marker\":{\"colorbar\":{\"outlinewidth\":0,\"ticks\":\"\"}},\"type\":\"scattergl\"}],\"scattermapbox\":[{\"marker\":{\"colorbar\":{\"outlinewidth\":0,\"ticks\":\"\"}},\"type\":\"scattermapbox\"}],\"scatterpolargl\":[{\"marker\":{\"colorbar\":{\"outlinewidth\":0,\"ticks\":\"\"}},\"type\":\"scatterpolargl\"}],\"scatterpolar\":[{\"marker\":{\"colorbar\":{\"outlinewidth\":0,\"ticks\":\"\"}},\"type\":\"scatterpolar\"}],\"scatter\":[{\"marker\":{\"colorbar\":{\"outlinewidth\":0,\"ticks\":\"\"}},\"type\":\"scatter\"}],\"scatterternary\":[{\"marker\":{\"colorbar\":{\"outlinewidth\":0,\"ticks\":\"\"}},\"type\":\"scatterternary\"}],\"surface\":[{\"colorbar\":{\"outlinewidth\":0,\"ticks\":\"\"},\"colorscale\":[[0.0,\"#0d0887\"],[0.1111111111111111,\"#46039f\"],[0.2222222222222222,\"#7201a8\"],[0.3333333333333333,\"#9c179e\"],[0.4444444444444444,\"#bd3786\"],[0.5555555555555556,\"#d8576b\"],[0.6666666666666666,\"#ed7953\"],[0.7777777777777778,\"#fb9f3a\"],[0.8888888888888888,\"#fdca26\"],[1.0,\"#f0f921\"]],\"type\":\"surface\"}],\"table\":[{\"cells\":{\"fill\":{\"color\":\"#EBF0F8\"},\"line\":{\"color\":\"white\"}},\"header\":{\"fill\":{\"color\":\"#C8D4E3\"},\"line\":{\"color\":\"white\"}},\"type\":\"table\"}]},\"layout\":{\"annotationdefaults\":{\"arrowcolor\":\"#2a3f5f\",\"arrowhead\":0,\"arrowwidth\":1},\"autotypenumbers\":\"strict\",\"coloraxis\":{\"colorbar\":{\"outlinewidth\":0,\"ticks\":\"\"}},\"colorscale\":{\"diverging\":[[0,\"#8e0152\"],[0.1,\"#c51b7d\"],[0.2,\"#de77ae\"],[0.3,\"#f1b6da\"],[0.4,\"#fde0ef\"],[0.5,\"#f7f7f7\"],[0.6,\"#e6f5d0\"],[0.7,\"#b8e186\"],[0.8,\"#7fbc41\"],[0.9,\"#4d9221\"],[1,\"#276419\"]],\"sequential\":[[0.0,\"#0d0887\"],[0.1111111111111111,\"#46039f\"],[0.2222222222222222,\"#7201a8\"],[0.3333333333333333,\"#9c179e\"],[0.4444444444444444,\"#bd3786\"],[0.5555555555555556,\"#d8576b\"],[0.6666666666666666,\"#ed7953\"],[0.7777777777777778,\"#fb9f3a\"],[0.8888888888888888,\"#fdca26\"],[1.0,\"#f0f921\"]],\"sequentialminus\":[[0.0,\"#0d0887\"],[0.1111111111111111,\"#46039f\"],[0.2222222222222222,\"#7201a8\"],[0.3333333333333333,\"#9c179e\"],[0.4444444444444444,\"#bd3786\"],[0.5555555555555556,\"#d8576b\"],[0.6666666666666666,\"#ed7953\"],[0.7777777777777778,\"#fb9f3a\"],[0.8888888888888888,\"#fdca26\"],[1.0,\"#f0f921\"]]},\"colorway\":[\"#636efa\",\"#EF553B\",\"#00cc96\",\"#ab63fa\",\"#FFA15A\",\"#19d3f3\",\"#FF6692\",\"#B6E880\",\"#FF97FF\",\"#FECB52\"],\"font\":{\"color\":\"#2a3f5f\"},\"geo\":{\"bgcolor\":\"white\",\"lakecolor\":\"white\",\"landcolor\":\"#E5ECF6\",\"showlakes\":true,\"showland\":true,\"subunitcolor\":\"white\"},\"hoverlabel\":{\"align\":\"left\"},\"hovermode\":\"closest\",\"mapbox\":{\"style\":\"light\"},\"paper_bgcolor\":\"white\",\"plot_bgcolor\":\"#E5ECF6\",\"polar\":{\"angularaxis\":{\"gridcolor\":\"white\",\"linecolor\":\"white\",\"ticks\":\"\"},\"bgcolor\":\"#E5ECF6\",\"radialaxis\":{\"gridcolor\":\"white\",\"linecolor\":\"white\",\"ticks\":\"\"}},\"scene\":{\"xaxis\":{\"backgroundcolor\":\"#E5ECF6\",\"gridcolor\":\"white\",\"gridwidth\":2,\"linecolor\":\"white\",\"showbackground\":true,\"ticks\":\"\",\"zerolinecolor\":\"white\"},\"yaxis\":{\"backgroundcolor\":\"#E5ECF6\",\"gridcolor\":\"white\",\"gridwidth\":2,\"linecolor\":\"white\",\"showbackground\":true,\"ticks\":\"\",\"zerolinecolor\":\"white\"},\"zaxis\":{\"backgroundcolor\":\"#E5ECF6\",\"gridcolor\":\"white\",\"gridwidth\":2,\"linecolor\":\"white\",\"showbackground\":true,\"ticks\":\"\",\"zerolinecolor\":\"white\"}},\"shapedefaults\":{\"line\":{\"color\":\"#2a3f5f\"}},\"ternary\":{\"aaxis\":{\"gridcolor\":\"white\",\"linecolor\":\"white\",\"ticks\":\"\"},\"baxis\":{\"gridcolor\":\"white\",\"linecolor\":\"white\",\"ticks\":\"\"},\"bgcolor\":\"#E5ECF6\",\"caxis\":{\"gridcolor\":\"white\",\"linecolor\":\"white\",\"ticks\":\"\"}},\"title\":{\"x\":0.05},\"xaxis\":{\"automargin\":true,\"gridcolor\":\"white\",\"linecolor\":\"white\",\"ticks\":\"\",\"title\":{\"standoff\":15},\"zerolinecolor\":\"white\",\"zerolinewidth\":2},\"yaxis\":{\"automargin\":true,\"gridcolor\":\"white\",\"linecolor\":\"white\",\"ticks\":\"\",\"title\":{\"standoff\":15},\"zerolinecolor\":\"white\",\"zerolinewidth\":2}}},\"title\":{\"text\":\"\\u0420\\u0435\\u0448\\u0435\\u043d\\u0438\\u044f \\u043a\\u0440\\u0430\\u0435\\u0432\\u043e\\u0439 \\u0437\\u0430\\u0434\\u0430\\u0447\\u0438 \\u0434\\u043b\\u044f \\u041e\\u0414\\u0423\"},\"xaxis\":{\"title\":{\"text\":\"x\"}},\"yaxis\":{\"title\":{\"text\":\"y\"}}},                        {\"responsive\": true}                    ).then(function(){\n",
              "                            \n",
              "var gd = document.getElementById('7d3038b3-142f-435e-a871-6205126eb586');\n",
              "var x = new MutationObserver(function (mutations, observer) {{\n",
              "        var display = window.getComputedStyle(gd).display;\n",
              "        if (!display || display === 'none') {{\n",
              "            console.log([gd, 'removed!']);\n",
              "            Plotly.purge(gd);\n",
              "            observer.disconnect();\n",
              "        }}\n",
              "}});\n",
              "\n",
              "// Listen for the removal of the full notebook cells\n",
              "var notebookContainer = gd.closest('#notebook-container');\n",
              "if (notebookContainer) {{\n",
              "    x.observe(notebookContainer, {childList: true});\n",
              "}}\n",
              "\n",
              "// Listen for the clearing of the current output cell\n",
              "var outputEl = gd.closest('.output');\n",
              "if (outputEl) {{\n",
              "    x.observe(outputEl, {childList: true});\n",
              "}}\n",
              "\n",
              "                        })                };                            </script>        </div>\n",
              "</body>\n",
              "</html>"
            ]
          },
          "metadata": {}
        }
      ]
    }
  ]
}