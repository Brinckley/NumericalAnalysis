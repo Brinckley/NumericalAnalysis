{
  "nbformat": 4,
  "nbformat_minor": 0,
  "metadata": {
    "colab": {
      "provenance": []
    },
    "kernelspec": {
      "name": "python3",
      "display_name": "Python 3"
    },
    "language_info": {
      "name": "python"
    }
  },
  "cells": [
    {
      "cell_type": "code",
      "execution_count": 3,
      "metadata": {
        "id": "-tPRs7XLhdCv"
      },
      "outputs": [],
      "source": [
        "import numpy as np\n",
        "import math\n",
        "import matplotlib.pyplot  as plot"
      ]
    },
    {
      "cell_type": "code",
      "source": [
        "x = [0.1, 0.5, 0.9, 1.3, 1.7, 2.1]\n",
        "y = [-2.2026, -0.19315, 0.79464, 1.5624, 2.2306, 2.8419]"
      ],
      "metadata": {
        "id": "gaopRFHLlgWv"
      },
      "execution_count": 4,
      "outputs": []
    },
    {
      "cell_type": "code",
      "source": [
        "def f(x):\n",
        "  return -2.46046 + 4.40618 * x + -0.922892 * x ** 2"
      ],
      "metadata": {
        "id": "3Z6UX_Y1lmaB"
      },
      "execution_count": 5,
      "outputs": []
    },
    {
      "cell_type": "code",
      "source": [
        "sol_f = [f(i) for i in x]\n",
        "sol_f"
      ],
      "metadata": {
        "colab": {
          "base_uri": "https://localhost:8080/"
        },
        "id": "kna27_YLpfjm",
        "outputId": "ab40743d-8f23-46aa-c6c9-dbc79bb02cc8"
      },
      "execution_count": 6,
      "outputs": [
        {
          "output_type": "execute_result",
          "data": {
            "text/plain": [
              "[-2.0290709199999997,\n",
              " -0.4880929999999999,\n",
              " 0.7575594800000003,\n",
              " 1.70788652,\n",
              " 2.3628881200000005,\n",
              " 2.722564280000001]"
            ]
          },
          "metadata": {},
          "execution_count": 6
        }
      ]
    },
    {
      "cell_type": "code",
      "source": [
        "plot.plot(x, y, 'rs', linewidth=2, markersize=5)\n",
        "plot.plot(x, sol_f, 'go--', linewidth=2, markersize=6)"
      ],
      "metadata": {
        "colab": {
          "base_uri": "https://localhost:8080/",
          "height": 283
        },
        "id": "kOEIqAneppvu",
        "outputId": "5fec3cd8-01bd-4c7e-f2e7-17f26aae7fdc"
      },
      "execution_count": 12,
      "outputs": [
        {
          "output_type": "execute_result",
          "data": {
            "text/plain": [
              "[<matplotlib.lines.Line2D at 0x7fac37bc60d0>]"
            ]
          },
          "metadata": {},
          "execution_count": 12
        },
        {
          "output_type": "display_data",
          "data": {
            "text/plain": [
              "<Figure size 432x288 with 1 Axes>"
            ],
            "image/png": "[encoded data removed]"
          },
          "metadata": {
            "needs_background": "light"
          }
        }
      ]
    },
    {
      "cell_type": "code",
      "source": [],
      "metadata": {
        "id": "G1m_Rf63qOuB"
      },
      "execution_count": null,
      "outputs": []
    }
  ]
}